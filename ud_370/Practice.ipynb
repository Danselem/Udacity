{
 "cells": [
  {
   "cell_type": "markdown",
   "metadata": {},
   "source": [
    "Practice with Tensorflow from [here](http://www.ritchieng.com/machine-learning/deep-learning/tensorflow/deep-neural-nets/)"
   ]
  },
  {
   "cell_type": "markdown",
   "metadata": {},
   "source": [
    "# GD #"
   ]
  },
  {
   "cell_type": "code",
   "execution_count": 13,
   "metadata": {
    "collapsed": true
   },
   "outputs": [],
   "source": [
    "from __future__ import print_function\n",
    "import numpy as np\n",
    "import tensorflow as tf\n",
    "from six.moves import cPickle as pickle\n",
    "from six.moves import range"
   ]
  },
  {
   "cell_type": "code",
   "execution_count": 14,
   "metadata": {
    "collapsed": false
   },
   "outputs": [
    {
     "name": "stdout",
     "output_type": "stream",
     "text": [
      "Training set (200000, 28, 28) (200000,)\n",
      "Validation set (10000, 28, 28) (10000,)\n",
      "Test set (10000, 28, 28) (10000,)\n"
     ]
    }
   ],
   "source": [
    "pickle_file = 'notMNIST.pickle'\n",
    "\n",
    "with open(pickle_file, 'rb') as f:\n",
    "  save = pickle.load(f)\n",
    "  train_dataset = save['train_dataset']\n",
    "  train_labels = save['train_labels']\n",
    "  valid_dataset = save['valid_dataset']\n",
    "  valid_labels = save['valid_labels']\n",
    "  test_dataset = save['test_dataset']\n",
    "  test_labels = save['test_labels']\n",
    "  del save  # hint to help gc free up memory\n",
    "  print('Training set', train_dataset.shape, train_labels.shape)\n",
    "  print('Validation set', valid_dataset.shape, valid_labels.shape)\n",
    "  print('Test set', test_dataset.shape, test_labels.shape)"
   ]
  },
  {
   "cell_type": "code",
   "execution_count": 15,
   "metadata": {
    "collapsed": true
   },
   "outputs": [],
   "source": [
    "image_size = 28\n",
    "num_labels = 10\n",
    "\n",
    "def reformat(dataset, labels):\n",
    "    dataset = dataset.reshape((-1, image_size * image_size)).astype(np.float32)\n",
    "    labels = (np.arange(num_labels) == labels[:,None]).astype(np.float32)\n",
    "    return dataset, labels"
   ]
  },
  {
   "cell_type": "code",
   "execution_count": 16,
   "metadata": {
    "collapsed": false
   },
   "outputs": [
    {
     "name": "stdout",
     "output_type": "stream",
     "text": [
      "Training set (200000, 784) (200000, 10)\n",
      "Validation set (10000, 784) (10000, 10)\n",
      "Test set (10000, 784) (10000, 10)\n"
     ]
    }
   ],
   "source": [
    "train_dataset, train_labels = reformat(train_dataset, train_labels)\n",
    "valid_dataset, valid_labels = reformat(valid_dataset, valid_labels)\n",
    "test_dataset, test_labels = reformat(test_dataset, test_labels)\n",
    "print('Training set', train_dataset.shape, train_labels.shape)\n",
    "print('Validation set', valid_dataset.shape, valid_labels.shape)\n",
    "print('Test set', test_dataset.shape, test_labels.shape)"
   ]
  },
  {
   "cell_type": "code",
   "execution_count": 17,
   "metadata": {
    "collapsed": true
   },
   "outputs": [],
   "source": [
    "# Gradient descent would take a while with full dataset\n",
    "train_subset = 10000\n",
    "\n",
    "#Create graph object by instantiation\n",
    "graph = tf.Graph()\n",
    "\n",
    "with graph.as_default():\n",
    "    \n",
    "    '''SET RANDOM SEED'''\n",
    "    # Want results to be repeatable\n",
    "    tf.set_random_seed(1)\n",
    "    \n",
    "    \"\"\"INPUT DATA\"\"\"\n",
    "    # Load train, valid and test data into constants\n",
    "    # All datasets are constants as this is non-stochastic \n",
    "    # gradient descent\n",
    "    tf_train_dataset = tf.constant(train_dataset[:train_subset, :])\n",
    "    tf_train_labels = tf.constant(train_labels[:train_subset])\n",
    "    tf_valid_dataset = tf.constant(valid_dataset)\n",
    "    tf_test_dataset = tf.constant(test_dataset)\n",
    "    \n",
    "    '''VARIABLES'''\n",
    "    # Weights are initialized with random values\n",
    "    # Biases are initalized with zeros\n",
    "    weights = tf.Variable(tf.truncated_normal([image_size * image_size, num_labels]))\n",
    "    biases = tf.Variable(tf.zeros([num_labels]))\n",
    "    \n",
    "    '''TRAINING COMPUTATION'''\n",
    "    # X * W + b\n",
    "    # Softmax >> Cross Entropy\n",
    "    logits = tf.matmul(tf_train_dataset, weights) + biases\n",
    "    \n",
    "    # Average of cross entropy across all training examples is loss\n",
    "    loss = tf.reduce_mean(tf.nn.softmax_cross_entropy_with_logits(logits, tf_train_labels))\n",
    "    \n",
    "    '''OPTIMIZER'''\n",
    "    # Find the minimum of the loss using gradient descent\n",
    "    optimizer = tf.train.GradientDescentOptimizer(0.5).minimize(loss)\n",
    "    \n",
    "    '''PREDICTIONS'''\n",
    "    # Using train, test, and val data, report accuracy\n",
    "    train_prediction = tf.nn.softmax(logits)\n",
    "    valid_prediction = tf.nn.softmax(tf.matmul(tf_valid_dataset, weights) + biases)\n",
    "    test_prediction = tf.nn.softmax(tf.matmul(tf_test_dataset, weights) + biases)\n",
    "    "
   ]
  },
  {
   "cell_type": "markdown",
   "metadata": {},
   "source": [
    "Run computation and iterate"
   ]
  },
  {
   "cell_type": "code",
   "execution_count": 18,
   "metadata": {
    "collapsed": false
   },
   "outputs": [
    {
     "name": "stdout",
     "output_type": "stream",
     "text": [
      "Initialized\n",
      "Loss at step 0: 20.8992271423\n",
      "Training accuracy: 7.1\n",
      "Validation accuracy: 8.9\n",
      "Test accuracy: 8.7\n",
      "Loss at step 100: 2.45050215721\n",
      "Training accuracy: 71.2\n",
      "Validation accuracy: 70.3\n",
      "Test accuracy: 77.8\n",
      "Loss at step 200: 1.9473515749\n",
      "Training accuracy: 74.3\n",
      "Validation accuracy: 72.6\n",
      "Test accuracy: 80.6\n",
      "Loss at step 300: 1.67538130283\n",
      "Training accuracy: 75.7\n",
      "Validation accuracy: 73.8\n",
      "Test accuracy: 81.7\n",
      "Loss at step 400: 1.49323868752\n",
      "Training accuracy: 76.7\n",
      "Validation accuracy: 74.3\n",
      "Test accuracy: 82.0\n",
      "Loss at step 500: 1.36117422581\n",
      "Training accuracy: 77.4\n",
      "Validation accuracy: 74.8\n",
      "Test accuracy: 82.4\n",
      "Loss at step 600: 1.25924921036\n",
      "Training accuracy: 78.0\n",
      "Validation accuracy: 75.0\n",
      "Test accuracy: 82.5\n",
      "Loss at step 700: 1.17734396458\n",
      "Training accuracy: 78.5\n",
      "Validation accuracy: 75.4\n",
      "Test accuracy: 82.8\n",
      "Loss at step 800: 1.1097625494\n",
      "Training accuracy: 78.9\n",
      "Validation accuracy: 75.6\n",
      "Test accuracy: 83.0\n"
     ]
    }
   ],
   "source": [
    "num_steps = 801\n",
    "\n",
    "def accuracy(predictions, labels):\n",
    "    return (100.0 * np.sum(np.argmax(predictions, 1) == np.argmax(labels, 1)) / predictions.shape[0])\n",
    "\n",
    "with tf.Session(graph=graph) as session:\n",
    "    tf.initialize_all_variables().run()\n",
    "    print('Initialized')\n",
    "    for step in range(num_steps):\n",
    "        # Run computations\n",
    "        _, l, predictions = session.run([optimizer, loss, train_prediction])\n",
    "        if (step%100 == 0):\n",
    "            print('Loss at step {}: {}'.format(step, l))\n",
    "            print('Training accuracy: {:.1f}'.format(accuracy(predictions, train_labels[:train_subset, :])))\n",
    "            \n",
    "            # Calling eval() on valid_prediction is similar to run() except \n",
    "            # one numpy array is returned\n",
    "            print('Validation accuracy: {:.1f}'.format(accuracy(valid_prediction.eval(), valid_labels)))\n",
    "            print('Test accuracy: {:.1f}'.format(accuracy(test_prediction.eval(), test_labels)))\n",
    "            "
   ]
  },
  {
   "cell_type": "markdown",
   "metadata": {
    "collapsed": true
   },
   "source": [
    " # SGD#"
   ]
  },
  {
   "cell_type": "markdown",
   "metadata": {},
   "source": [
    "Instead of `tf.constant`, will use `tf.placeholder` since the input will change with each batch."
   ]
  },
  {
   "cell_type": "code",
   "execution_count": 19,
   "metadata": {
    "collapsed": true
   },
   "outputs": [],
   "source": [
    "batch_size = 128\n",
    "\n",
    "graph = tf.Graph()\n",
    "with graph.as_default():\n",
    "    \n",
    "    tf.set_random_seed(1)\n",
    "    \n",
    "    \"\"\"INPUT DATA\"\"\"\n",
    "    tf_train_dataset = tf.placeholder(tf.float32, shape=(batch_size, image_size * image_size))\n",
    "    tf_train_labels = tf.placeholder(tf.float32, shape=(batch_size, num_labels))\n",
    "    tf_valid_dataset = tf.constant(valid_dataset)\n",
    "    tf_test_dataset = tf.constant(test_dataset)\n",
    "    \n",
    "    \"\"\"VARIABLES\"\"\"\n",
    "    # Weights initially random\n",
    "    # Biases initialy zero\n",
    "    weights = tf.Variable(tf.truncated_normal([image_size * image_size, num_labels]))\n",
    "    biases = tf.Variable(tf.zeros([num_labels]))\n",
    "    \n",
    "    \"\"\"TRAINING COMPUTATION\"\"\"\n",
    "    # X * W + b\n",
    "    logits = tf.matmul(tf_train_dataset, weights) + biases\n",
    "    loss = tf.reduce_mean(tf.nn.softmax_cross_entropy_with_logits(logits, tf_train_labels))\n",
    "    \n",
    "    \"\"\"OPTIMIZER\"\"\"\n",
    "    optimizer = tf.train.GradientDescentOptimizer(0.5).minimize(loss)\n",
    "    \n",
    "    \"\"\"PREDICTIONS\"\"\"\n",
    "    \n",
    "    train_prediction = tf.nn.softmax(logits)\n",
    "    valid_prediction = tf.nn.softmax(tf.matmul(tf_valid_dataset, weights) + biases)\n",
    "    test_prediction = tf.nn.softmax(tf.matmul(tf_test_dataset, weights) + biases)"
   ]
  },
  {
   "cell_type": "code",
   "execution_count": 20,
   "metadata": {
    "collapsed": false
   },
   "outputs": [
    {
     "name": "stdout",
     "output_type": "stream",
     "text": [
      "Initialized\n",
      "Minibatch loss at step 0: 20.7893486023\n",
      "Minibatch accuracy: 6.2\n",
      "Validation accuracy: 9.3\n",
      "Test accuracy: 9.2\n",
      "Minibatch loss at step 500: 1.77074170113\n",
      "Minibatch accuracy: 75.8\n",
      "Validation accuracy: 75.1\n",
      "Test accuracy: 83.1\n",
      "Minibatch loss at step 1000: 1.43556928635\n",
      "Minibatch accuracy: 78.1\n",
      "Validation accuracy: 76.2\n",
      "Test accuracy: 84.2\n",
      "Minibatch loss at step 1500: 0.845371305943\n",
      "Minibatch accuracy: 79.7\n",
      "Validation accuracy: 77.0\n",
      "Test accuracy: 84.8\n",
      "Minibatch loss at step 2000: 1.33343911171\n",
      "Minibatch accuracy: 75.0\n",
      "Validation accuracy: 77.5\n",
      "Test accuracy: 85.2\n",
      "Minibatch loss at step 2500: 0.984911859035\n",
      "Minibatch accuracy: 78.1\n",
      "Validation accuracy: 78.1\n",
      "Test accuracy: 86.2\n",
      "Minibatch loss at step 3000: 1.01682293415\n",
      "Minibatch accuracy: 79.7\n",
      "Validation accuracy: 78.1\n",
      "Test accuracy: 86.2\n"
     ]
    }
   ],
   "source": [
    "num_steps = 3001\n",
    "\n",
    "with tf.Session(graph=graph) as session:\n",
    "    tf.initialize_all_variables().run()\n",
    "    print('Initialized')\n",
    "    for step in range(num_steps):\n",
    "        # Pick offset w/i training data which has been randomly chosen\n",
    "        offset = (step * batch_size) % (train_labels.shape[0] - batch_size)\n",
    "        # Generate mini-batch\n",
    "        batch_data = train_dataset[offset:(offset + batch_size), :]\n",
    "        batch_labels = train_labels[offset:(offset + batch_size), :]\n",
    "        \n",
    "        # Prepare a dict telling session where to feed minibatch\n",
    "        # Key is placeholder node of graph to be fed\n",
    "        # Value is numpy array to feed it\n",
    "        feed_dict = {tf_train_dataset : batch_data, tf_train_labels : batch_labels}\n",
    "        _, l, predictions = session.run([optimizer, loss, train_prediction], feed_dict=feed_dict)\n",
    "        if (step%500 == 0):\n",
    "            print('Minibatch loss at step {}: {}'.format(step, l))\n",
    "            print('Minibatch accuracy: {:.1f}'.format(accuracy(predictions, batch_labels)))\n",
    "            print('Validation accuracy: {:.1f}'.format(accuracy(valid_prediction.eval(), valid_labels)))\n",
    "            print('Test accuracy: {:.1f}'.format(accuracy(test_prediction.eval(), test_labels)))"
   ]
  },
  {
   "cell_type": "markdown",
   "metadata": {},
   "source": [
    "# NN with 128 hidden nodes and relu activation"
   ]
  },
  {
   "cell_type": "markdown",
   "metadata": {},
   "source": [
    "Train a neural net with 1 hidden layer containing 1024 nodes with relus."
   ]
  },
  {
   "cell_type": "code",
   "execution_count": 22,
   "metadata": {
    "collapsed": false
   },
   "outputs": [],
   "source": [
    "num_nodes = 1024\n",
    "batch_size = 128\n",
    "\n",
    "graph = tf.Graph()\n",
    "with graph.as_default():\n",
    "    tf.set_random_seed(1)\n",
    "    \n",
    "    \"\"\"DATA\"\"\"\n",
    "    tf_train_dataset = tf.placeholder(tf.float32, shape=(batch_size, image_size * image_size))\n",
    "    tf_train_labels = tf.placeholder(tf.float32, shape=(batch_size, num_labels))\n",
    "    tf_valid_dataset = tf.constant(valid_dataset)\n",
    "    tf_test_dataset = tf.constant(test_dataset)\n",
    "    \n",
    "    \"\"\"VARIABLES\"\"\"\n",
    "    weights_1 = tf.Variable(tf.truncated_normal([image_size * image_size, num_nodes]))\n",
    "    biases_1 = tf.Variable(tf.zeros([num_nodes]))\n",
    "    \n",
    "    weights_2 = tf.Variable(tf.truncated_normal([num_nodes, num_labels]))\n",
    "    biases_2 = tf.Variable(tf.zeros([num_labels]))\n",
    "    \n",
    "    \"\"\"COMPUTE TRAINING\"\"\"\n",
    "    logits_1 = tf.matmul(tf_train_dataset, weights_1) + biases_1\n",
    "    relu_layer = tf.nn.relu(logits_1)\n",
    "    \n",
    "    logits_2 = tf.matmul(relu_layer, weights_2) + biases_2\n",
    "    loss = tf.reduce_mean(tf.nn.softmax_cross_entropy_with_logits(logits_2, tf_train_labels))\n",
    "    \n",
    "    \"\"\"OPTIMIZER\"\"\"\n",
    "    optimizer = tf.train.GradientDescentOptimizer(0.5).minimize(loss)\n",
    "    \n",
    "    \"\"\"PREDICTIONS\"\"\"\n",
    "    # Train prediction\n",
    "    train_prediction = tf.nn.softmax(logits_2)\n",
    "    \n",
    "    # Valid prediction\n",
    "    logits_1 = tf.matmul(tf_valid_dataset, weights_1) + biases_1\n",
    "    relu_layer = tf.nn.relu(logits_1)\n",
    "    logits_2 = tf.matmul(relu_layer, weights_2) + biases_2\n",
    "    \n",
    "    valid_prediction = tf.nn.softmax(logits_2)\n",
    "    \n",
    "    # Test prediction\n",
    "    logits_1 = tf.matmul(tf_test_dataset, weights_1) + biases_1\n",
    "    relu_layer = tf.nn.relu(logits_1)\n",
    "    logits_2 = tf.matmul(relu_layer, weights_2) + biases_2\n",
    "    \n",
    "    test_prediction = tf.nn.softmax(logits_2)"
   ]
  },
  {
   "cell_type": "code",
   "execution_count": 24,
   "metadata": {
    "collapsed": false
   },
   "outputs": [
    {
     "name": "stdout",
     "output_type": "stream",
     "text": [
      "Initialized\n",
      "Minibatch loss at step 0: 319.850372314\n",
      "Minibatch accuracy: 6.2\n",
      "Validation accuracy: 32.4\n",
      "Test accuracy: 34.3\n",
      "Minibatch loss at step 500: 14.0138378143\n",
      "Minibatch accuracy: 80.5\n",
      "Validation accuracy: 80.8\n",
      "Test accuracy: 87.5\n",
      "Minibatch loss at step 1000: 9.30784130096\n",
      "Minibatch accuracy: 82.8\n",
      "Validation accuracy: 81.2\n",
      "Test accuracy: 87.4\n",
      "Minibatch loss at step 1500: 5.70523262024\n",
      "Minibatch accuracy: 82.0\n",
      "Validation accuracy: 81.8\n",
      "Test accuracy: 88.2\n",
      "Minibatch loss at step 2000: 2.97010278702\n",
      "Minibatch accuracy: 84.4\n",
      "Validation accuracy: 82.6\n",
      "Test accuracy: 89.0\n",
      "Minibatch loss at step 2500: 2.14710092545\n",
      "Minibatch accuracy: 83.6\n",
      "Validation accuracy: 81.6\n",
      "Test accuracy: 88.8\n",
      "Minibatch loss at step 3000: 4.11144733429\n",
      "Minibatch accuracy: 80.5\n",
      "Validation accuracy: 82.7\n",
      "Test accuracy: 89.1\n"
     ]
    }
   ],
   "source": [
    "num_steps = 3001\n",
    "\n",
    "with tf.Session(graph=graph) as session:\n",
    "    tf.initialize_all_variables().run()\n",
    "    print('Initialized')\n",
    "    for step in range(num_steps):\n",
    "        # Choose random offset in data\n",
    "        offset = (step * batch_size) % (train_labels.shape[0] - batch_size)\n",
    "        # Generate minibatch\n",
    "        batch_data = train_dataset[offset:(offset + batch_size), :]\n",
    "        batch_labels = train_labels[offset:(offset + batch_size), :]\n",
    "        # Prepare minibatch dict\n",
    "        feed_dict = {tf_train_dataset : batch_data, tf_train_labels : batch_labels}\n",
    "        _, l, predictions = session.run([optimizer, loss, train_prediction], feed_dict=feed_dict)\n",
    "        if (step%500 == 0):\n",
    "            print('Minibatch loss at step {}: {}'.format(step, l))\n",
    "            print('Minibatch accuracy: {:.1f}'.format(accuracy(predictions, batch_labels)))\n",
    "            print('Validation accuracy: {:.1f}'.format(accuracy(valid_prediction.eval(), valid_labels)))\n",
    "            print('Test accuracy: {:.1f}'.format(accuracy(test_prediction.eval(), test_labels)))"
   ]
  }
 ],
 "metadata": {
  "anaconda-cloud": {},
  "kernelspec": {
   "display_name": "Python [default]",
   "language": "python",
   "name": "python2"
  },
  "language_info": {
   "codemirror_mode": {
    "name": "ipython",
    "version": 2
   },
   "file_extension": ".py",
   "mimetype": "text/x-python",
   "name": "python",
   "nbconvert_exporter": "python",
   "pygments_lexer": "ipython2",
   "version": "2.7.13"
  }
 },
 "nbformat": 4,
 "nbformat_minor": 2
}
